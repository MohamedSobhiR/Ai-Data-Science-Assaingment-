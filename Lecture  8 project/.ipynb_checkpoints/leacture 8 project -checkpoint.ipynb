{
 "cells": [
  {
   "cell_type": "markdown",
   "metadata": {},
   "source": [
    "## Make project containing\n",
    " 1- different types of files (jpg, png, mp3, txt, avi, mp4, pdf, etc..) \n",
    " \n",
    " 2 -  read all files \n",
    " \n",
    " 3 - rename these files with random names \n",
    " except for jpg & mp3 they will stay with no changes.\n"
   ]
  },
  {
   "cell_type": "code",
   "execution_count": 3,
   "metadata": {},
   "outputs": [],
   "source": [
    "import os \n",
    "import random \n",
    "import string"
   ]
  },
  {
   "cell_type": "code",
   "execution_count": 4,
   "metadata": {},
   "outputs": [
    {
     "data": {
      "text/plain": [
       "['bgguh.need to Distry',\n",
       " 'huyxg.need to Distry',\n",
       " 'iwgus.need to Distry',\n",
       " 'Mega (1).jpg',\n",
       " 'Mega (1).mp3',\n",
       " 'Mega (2).jpg',\n",
       " 'Mega (2).mp3',\n",
       " 'Mega (3).jpg',\n",
       " 'Mega (3).mp3',\n",
       " 'Mega (4).jpg',\n",
       " 'mtsqa.need to Distry',\n",
       " 'nfznd.need to Distry',\n",
       " 'yrbck.need to Distry']"
      ]
     },
     "execution_count": 4,
     "metadata": {},
     "output_type": "execute_result"
    }
   ],
   "source": [
    "terminator = os.listdir('./Terminator')\n",
    "terminator"
   ]
  },
  {
   "cell_type": "code",
   "execution_count": 5,
   "metadata": {},
   "outputs": [
    {
     "data": {
      "text/plain": [
       "'abcdefghijklmnopqrstuvwxyz'"
      ]
     },
     "execution_count": 5,
     "metadata": {},
     "output_type": "execute_result"
    }
   ],
   "source": [
    "code = string.ascii_lowercase\n",
    "code"
   ]
  },
  {
   "cell_type": "code",
   "execution_count": 6,
   "metadata": {},
   "outputs": [
    {
     "name": "stdout",
     "output_type": "stream",
     "text": [
      "Mega (1).jpg\n",
      "Mega (1).mp3\n",
      "Mega (2).jpg\n",
      "Mega (2).mp3\n",
      "Mega (3).jpg\n",
      "Mega (3).mp3\n",
      "Mega (4).jpg\n"
     ]
    }
   ],
   "source": [
    "for names in terminator :\n",
    "    if names.endswith('.jpg'):\n",
    "        print(names)\n",
    "        \n",
    "    elif names.endswith('.mp3'): \n",
    "        print(names)\n",
    "        \n",
    "    else :\n",
    "        name = ''.join(random.choice(code) for i in range(5)) + '.need to Distry'\n",
    "        os.rename(f'./Terminator/{names}', f'./Terminator/{name}')\n"
   ]
  },
  {
   "cell_type": "code",
   "execution_count": 7,
   "metadata": {},
   "outputs": [
    {
     "data": {
      "text/plain": [
       "['bgguh.need to Distry',\n",
       " 'huyxg.need to Distry',\n",
       " 'iwgus.need to Distry',\n",
       " 'Mega (1).jpg',\n",
       " 'Mega (1).mp3',\n",
       " 'Mega (2).jpg',\n",
       " 'Mega (2).mp3',\n",
       " 'Mega (3).jpg',\n",
       " 'Mega (3).mp3',\n",
       " 'Mega (4).jpg',\n",
       " 'mtsqa.need to Distry',\n",
       " 'nfznd.need to Distry',\n",
       " 'yrbck.need to Distry']"
      ]
     },
     "execution_count": 7,
     "metadata": {},
     "output_type": "execute_result"
    }
   ],
   "source": [
    "terminator"
   ]
  },
  {
   "cell_type": "code",
   "execution_count": null,
   "metadata": {},
   "outputs": [],
   "source": []
  }
 ],
 "metadata": {
  "kernelspec": {
   "display_name": "Python 3",
   "language": "python",
   "name": "python3"
  },
  "language_info": {
   "codemirror_mode": {
    "name": "ipython",
    "version": 3
   },
   "file_extension": ".py",
   "mimetype": "text/x-python",
   "name": "python",
   "nbconvert_exporter": "python",
   "pygments_lexer": "ipython3",
   "version": "3.7.6"
  }
 },
 "nbformat": 4,
 "nbformat_minor": 4
}
