{
 "cells": [
  {
   "cell_type": "markdown",
   "metadata": {},
   "source": [
    "# Lecture 2 - Assignment\n"
   ]
  },
  {
   "cell_type": "markdown",
   "metadata": {},
   "source": [
    "Create a jupyter notebook and write a code to output the circumference of the circle & rectangle."
   ]
  },
  {
   "cell_type": "markdown",
   "metadata": {},
   "source": [
    "## 1-\n",
    "\n",
    "**Rectangle**"
   ]
  },
  {
   "cell_type": "markdown",
   "metadata": {},
   "source": [
    "The perimeter of the rectangle = **2x(length + width)**\n",
    "\n",
    "Area of  rectangle = **(Length x Width)**\n",
    "\n",
    "WE will mention  **Lenght with \"A\"** &  **Width with  \"B\"**\n"
   ]
  },
  {
   "cell_type": "code",
   "execution_count": 1,
   "metadata": {},
   "outputs": [
    {
     "name": "stdout",
     "output_type": "stream",
     "text": [
      " Lenght =  \"A\" :  2\n"
     ]
    }
   ],
   "source": [
    "A  =  int(input(' Lenght =  \"A\" :  '))"
   ]
  },
  {
   "cell_type": "code",
   "execution_count": 2,
   "metadata": {},
   "outputs": [
    {
     "name": "stdout",
     "output_type": "stream",
     "text": [
      " width =  \"B\" :  3\n"
     ]
    }
   ],
   "source": [
    "B  =  int(input(' width =  \"B\" :  '))"
   ]
  },
  {
   "cell_type": "code",
   "execution_count": 3,
   "metadata": {},
   "outputs": [
    {
     "name": "stdout",
     "output_type": "stream",
     "text": [
      "So your Rectangle Perimeter & Area will be after adding your Lenght and width \n"
     ]
    }
   ],
   "source": [
    "print('So your Rectangle Perimeter & Area will be after adding your Lenght and width ')"
   ]
  },
  {
   "cell_type": "code",
   "execution_count": 4,
   "metadata": {},
   "outputs": [
    {
     "name": "stdout",
     "output_type": "stream",
     "text": [
      "your Rectangle perimeter =   10\n"
     ]
    }
   ],
   "source": [
    "print('your Rectangle perimeter =  ' , 2 *( A + B ))"
   ]
  },
  {
   "cell_type": "code",
   "execution_count": 5,
   "metadata": {},
   "outputs": [
    {
     "name": "stdout",
     "output_type": "stream",
     "text": [
      "your Area of  rectangle =   6\n"
     ]
    }
   ],
   "source": [
    "print('your Area of  rectangle =  ' , A*B)"
   ]
  },
  {
   "cell_type": "markdown",
   "metadata": {},
   "source": [
    "## 2- \n",
    "\n",
    "**circle**"
   ]
  },
  {
   "cell_type": "markdown",
   "metadata": {},
   "source": [
    "Circumference = **3.14 x Radius x2**\n",
    "\n",
    "Area of a circle = **3.14 x Radius x Radius**\n",
    "\n",
    "WE will mention  **Radius \"R\"**"
   ]
  },
  {
   "cell_type": "code",
   "execution_count": 7,
   "metadata": {},
   "outputs": [
    {
     "name": "stdout",
     "output_type": "stream",
     "text": [
      " Radius =  \"R\" :  3\n"
     ]
    }
   ],
   "source": [
    "R  =  int(input(' Radius =  \"R\" :  '))"
   ]
  },
  {
   "cell_type": "code",
   "execution_count": 8,
   "metadata": {},
   "outputs": [
    {
     "name": "stdout",
     "output_type": "stream",
     "text": [
      "your Circle Cricumference =   18.84\n"
     ]
    }
   ],
   "source": [
    "print('your Circle Cricumference =  ',3.14*R*2)"
   ]
  },
  {
   "cell_type": "code",
   "execution_count": 9,
   "metadata": {},
   "outputs": [
    {
     "name": "stdout",
     "output_type": "stream",
     "text": [
      "Your Circle Area =  28.259999999999998\n"
     ]
    }
   ],
   "source": [
    "print('Your Circle Area = ',3.14*R*R)"
   ]
  },
  {
   "cell_type": "code",
   "execution_count": null,
   "metadata": {},
   "outputs": [],
   "source": []
  }
 ],
 "metadata": {
  "kernelspec": {
   "display_name": "Python 3",
   "language": "python",
   "name": "python3"
  },
  "language_info": {
   "codemirror_mode": {
    "name": "ipython",
    "version": 3
   },
   "file_extension": ".py",
   "mimetype": "text/x-python",
   "name": "python",
   "nbconvert_exporter": "python",
   "pygments_lexer": "ipython3",
   "version": "3.7.6"
  }
 },
 "nbformat": 4,
 "nbformat_minor": 4
}
