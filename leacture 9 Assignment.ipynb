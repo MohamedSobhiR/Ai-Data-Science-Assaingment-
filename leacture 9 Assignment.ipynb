{
 "cells": [
  {
   "cell_type": "markdown",
   "metadata": {},
   "source": [
    "## Make a package called 'my_packages' \n",
    "___\n",
    "1 - that contains ``2 packages`` first one called ``Transformers`` and second one called ``Operations ``\n",
    "\n",
    "***in Transformers*** package make a module called ``StringTransformer `` \n",
    "\n",
    "that has ``2 functions`` one to`` reverse`` a string and second one to ``capitalize a string,  ``\n",
    "\n",
    "\n",
    "and ***in the Operations*** package make one module called`` Math`` that has 1 function ``get_average`` to get average of list values,\n",
    "\n",
    "then make a ``notebook`` to use these functions."
   ]
  },
  {
   "cell_type": "code",
   "execution_count": 1,
   "metadata": {},
   "outputs": [],
   "source": [
    "# ALL fUNCTIONS tHAT WE wILL nEED \n",
    "def reverse_word(word):\n",
    "    return word[::-1]\n",
    "\n",
    "\n",
    "def capitalize_word(word):\n",
    "    return word.capitalize()"
   ]
  },
  {
   "cell_type": "code",
   "execution_count": 7,
   "metadata": {},
   "outputs": [],
   "source": [
    "def get_average(lst):\n",
    "    sum_of_list = 0\n",
    "    for element in lst:\n",
    "        sum_of_list += element\n",
    "    return sum_of_list / len(lst)\n",
    "    "
   ]
  },
  {
   "cell_type": "code",
   "execution_count": 11,
   "metadata": {},
   "outputs": [],
   "source": [
    "x = [3,4,5,6,8,8,9,7,8,1]"
   ]
  },
  {
   "cell_type": "code",
   "execution_count": 12,
   "metadata": {},
   "outputs": [
    {
     "data": {
      "text/plain": [
       "5.9"
      ]
     },
     "execution_count": 12,
     "metadata": {},
     "output_type": "execute_result"
    }
   ],
   "source": [
    "get_average(x)"
   ]
  },
  {
   "cell_type": "code",
   "execution_count": null,
   "metadata": {},
   "outputs": [],
   "source": []
  }
 ],
 "metadata": {
  "kernelspec": {
   "display_name": "Python 3",
   "language": "python",
   "name": "python3"
  },
  "language_info": {
   "codemirror_mode": {
    "name": "ipython",
    "version": 3
   },
   "file_extension": ".py",
   "mimetype": "text/x-python",
   "name": "python",
   "nbconvert_exporter": "python",
   "pygments_lexer": "ipython3",
   "version": "3.7.6"
  }
 },
 "nbformat": 4,
 "nbformat_minor": 4
}
